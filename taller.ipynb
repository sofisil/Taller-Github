{
 "cells": [
  {
   "attachments": {},
   "cell_type": "markdown",
   "metadata": {},
   "source": [
    "### Installar Git\n",
    "\n",
    "- Windows\n",
    "\n",
    "`winget install git.git`\n",
    "\n",
    "- Linux/Mac\n",
    "\n",
    "`$ sudo apt install git-all`\n",
    "\n",
    "- Descargar: \n",
    "https://git-scm.com/download/win"
   ]
  },
  {
   "attachments": {},
   "cell_type": "markdown",
   "metadata": {},
   "source": [
    "Configuracion:\n",
    "\n",
    "- usuario:\n",
    "`git config --global user.name \"sofisil\"`\n",
    "\n",
    "- correo:\n",
    "`git config --global user.email \"sofiamariasilvagimenez@gmail.com\"`"
   ]
  },
  {
   "attachments": {},
   "cell_type": "markdown",
   "metadata": {},
   "source": [
    "## Configuracion local\n",
    "\n",
    "- inicializar un repositorio localmente\n",
    "\n",
    "`git init`\n",
    "\n",
    "- crear la rama principal 'main'\n",
    "\n",
    "`git branch -M main`\n",
    "\n",
    "- agregar los cambios a git\n",
    "\n"
   ]
  }
 ],
 "metadata": {
  "language_info": {
   "name": "python"
  },
  "orig_nbformat": 4
 },
 "nbformat": 4,
 "nbformat_minor": 2
}
