{
 "cells": [
  {
   "attachments": {},
   "cell_type": "markdown",
   "metadata": {},
   "source": [
    "## Installar Git\n",
    "\n",
    "- Windows\n",
    "\n",
    "`winget install git.git`\n",
    "\n",
    "- Linux/Mac\n",
    "\n",
    "`$ sudo apt install git-all`\n",
    "\n",
    "- Descargar: \n",
    "https://git-scm.com/download/win"
   ]
  },
  {
   "attachments": {},
   "cell_type": "markdown",
   "metadata": {},
   "source": [
    "Configuracion:\n",
    "\n",
    "- usuario\n",
    "  \n",
    "`git config --global user.name \"sofisil\"`\n",
    "\n",
    "- correo\n",
    "\n",
    "\n",
    "`git config --global user.email \"sofiamariasilvagimenez@gmail.com\"`"
   ]
  },
  {
   "attachments": {},
   "cell_type": "markdown",
   "metadata": {},
   "source": [
    "## Configuracion local\n",
    "\n",
    "- inicializar un repositorio localmente\n",
    "\n",
    "`git init`\n",
    "\n",
    "- crear la rama principal 'main'\n",
    "\n",
    "`git branch -M main`\n",
    "\n",
    "- agregar los cambios a git\n",
    "\n",
    "`git add .`\n",
    "\n",
    "- comitear (guardar) los cambios en git\n",
    "\n",
    "`git commit -m 'mensaje del commit'`\n",
    "\n",
    "- enviar los cambios a git \n",
    "\n",
    "`git push -u origin main`\n"
   ]
  },
  {
   "attachments": {},
   "cell_type": "markdown",
   "metadata": {},
   "source": [
    "## Conectarse a un repositorio remoto que esta en GitHub con el HTTP\n",
    "\n",
    "donde encontrar: van al repositorio en GitHUb \n",
    "\n",
    "Code \n",
    "\n",
    "![Code](./img/code_github.jpeg)\n",
    "\n",
    "HTTPs\n",
    "\n",
    "![HTTPs](./img/HTTP_GitHub.png)\n",
    "\n",
    "Copiar \"http://...\"\n",
    "\n",
    "\n",
    "- Conectarse remotamente al repositorio remoto de GitHub con el HTTP\n",
    "\n",
    "`git remote add origin https://github.com/sofisil/test.git`\n",
    "\n",
    "- Verificar a que repositorio esta conectado la carpeta local\n",
    "\n",
    "`git remote -v`\n",
    "\n",
    "\n",
    "- Traer los archivos del repositorio a la carpeta local\n",
    "\n",
    "`git pull origin main`\n",
    "\n",
    "\n",
    "- Crear la rama en la cual se va a trabajar localmente\n",
    "\n",
    "`git branch <nombre de la rama>`\n",
    "\n"
   ]
  },
  {
   "attachments": {},
   "cell_type": "markdown",
   "metadata": {},
   "source": [
    "## Traer y enviar cambios\n",
    "\n",
    "- Ver el estados de los archivos\n",
    "\n",
    "`git status`\n",
    "\n",
    "- Agregar los archivos locales\n",
    "\n",
    "`git add .`\n",
    "\n",
    "- Commitear los cambios\n",
    "\n",
    "`git commit -m 'mensaje del commit'`\n",
    "\n",
    "- Traer cambios hechos por otras personas \n",
    "\n",
    "`git pull origin main`\n",
    "\n",
    "- Alzar los cambio al repositorio en la rama personal\n",
    "\n",
    "`git push origin <nombre de la rama>`"
   ]
  }
 ],
 "metadata": {
  "kernelspec": {
   "display_name": "Python 3",
   "language": "python",
   "name": "python3"
  },
  "language_info": {
   "name": "python",
   "version": "3.10.6"
  },
  "orig_nbformat": 4,
  "vscode": {
   "interpreter": {
    "hash": "916dbcbb3f70747c44a77c7bcd40155683ae19c65e1c03b4aa3499c5328201f1"
   }
  }
 },
 "nbformat": 4,
 "nbformat_minor": 2
}
